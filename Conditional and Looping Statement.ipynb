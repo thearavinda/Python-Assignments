{
 "cells": [
  {
   "cell_type": "markdown",
   "id": "06596ab1-38f6-404a-9e87-4466b73f3f2a",
   "metadata": {},
   "source": [
    "## Excercise 1"
   ]
  },
  {
   "cell_type": "code",
   "execution_count": 8,
   "id": "a344548e-4534-4712-805c-a5e85d038e62",
   "metadata": {},
   "outputs": [
    {
     "name": "stdin",
     "output_type": "stream",
     "text": [
      "Enter the month 5\n"
     ]
    },
    {
     "name": "stdout",
     "output_type": "stream",
     "text": [
      "Month 5 is May\n"
     ]
    }
   ],
   "source": [
    "num=int(input('Enter the month'))\n",
    "\n",
    "months=['January','February','March','April',\n",
    "        'May','June','July','August','September',\n",
    "        'October','November','December']\n",
    "\n",
    "if 1<=num<=12:\n",
    "    print(f'Month {num} is {months[num-1]}')\n",
    "\n",
    "else:\n",
    "    print('Invalid input number')"
   ]
  },
  {
   "cell_type": "markdown",
   "id": "5621ca65-0b24-4da4-9671-b913f26aa957",
   "metadata": {},
   "source": [
    "## Exercise 2"
   ]
  },
  {
   "cell_type": "code",
   "execution_count": 23,
   "id": "7a29c3a1-a954-49e8-ac9d-782b083ff7a9",
   "metadata": {},
   "outputs": [
    {
     "name": "stdin",
     "output_type": "stream",
     "text": [
      "Enter your age 55\n"
     ]
    },
    {
     "name": "stdout",
     "output_type": "stream",
     "text": [
      "Your ticket costs  £6\n"
     ]
    }
   ],
   "source": [
    "age=int(input('Enter your age'))\n",
    "price=6\n",
    "\n",
    "if age<16:\n",
    "    print(f'Your ticket costs £{price/2}')\n",
    "elif age>=60:\n",
    "    print(f'Your ticket costs  £{price/3}')\n",
    "else:\n",
    "    print(f'Your ticket costs  £{price}')"
   ]
  },
  {
   "cell_type": "markdown",
   "id": "25045fb5-b939-444d-86f2-b261d5604dff",
   "metadata": {},
   "source": [
    "## Excercise 3"
   ]
  },
  {
   "cell_type": "code",
   "execution_count": 43,
   "id": "b1c3423d-bf0d-4a23-a46c-4316e615620a",
   "metadata": {},
   "outputs": [
    {
     "name": "stdin",
     "output_type": "stream",
     "text": [
      "Enter your weight in (kg) 90\n",
      "Enter your height in (m) 1.65\n"
     ]
    },
    {
     "name": "stdout",
     "output_type": "stream",
     "text": [
      "Your BMI is: 33.06\n",
      "You are in the 'Obese' range\n"
     ]
    }
   ],
   "source": [
    "weight=int(input('Enter your weight in (kg)'))\n",
    "height=float(input('Enter your height in (m)'))\n",
    "\n",
    "BMI=round(weight/(height**2),2)\n",
    "print(f'Your BMI is: {BMI}')\n",
    "\n",
    "if BMI <18.5:\n",
    "    print(\"You are in the 'Underweight' range\")\n",
    "    \n",
    "elif BMI < 24.9:\n",
    "    print(\"You are in the 'Normal' range\")\n",
    "\n",
    "elif BMI < 29.9:\n",
    "    print(\"You are in the 'Overweight' range\")\n",
    "else:\n",
    "    print(\"You are in the 'Obese' range\")"
   ]
  },
  {
   "cell_type": "markdown",
   "id": "a0a2e94e-85cc-4fb9-8c09-13b7129aa95e",
   "metadata": {},
   "source": [
    "## Excercise 4"
   ]
  },
  {
   "cell_type": "code",
   "execution_count": 1,
   "id": "2867871a-97f7-4125-a06e-f8ee6cc88d5a",
   "metadata": {},
   "outputs": [
    {
     "name": "stdin",
     "output_type": "stream",
     "text": [
      "Enter the numbers with spaces 45 78 6 \n"
     ]
    },
    {
     "name": "stdout",
     "output_type": "stream",
     "text": [
      "[45, 78, 6]\n",
      "The greatest among them is 78\n"
     ]
    }
   ],
   "source": [
    "numbers=input('Enter the numbers with spaces')\n",
    "num_list=numbers.split()\n",
    "len(num_list)\n",
    "if len(num_list)>3:\n",
    "    print('Only 3 numbers in acceptable')\n",
    "else:\n",
    "    for i in range(len(num_list)):\n",
    "          num_list[i]=int(num_list[i])\n",
    "    print(num_list)\n",
    "\n",
    "    large_num=num_list[0]\n",
    "    for num in num_list:\n",
    "        if num>large_num:\n",
    "           large_num=num\n",
    "    print(f'The greatest among them is {large_num}')\n",
    "\n",
    "\n",
    "    \n",
    "        \n"
   ]
  },
  {
   "cell_type": "markdown",
   "id": "de6d9790-c3ac-441f-ad99-f38a687e0a23",
   "metadata": {},
   "source": [
    "## Excercise 5"
   ]
  },
  {
   "cell_type": "code",
   "execution_count": 109,
   "id": "a8252966-861c-44cf-89bf-e7ad437f1f2b",
   "metadata": {},
   "outputs": [
    {
     "name": "stdin",
     "output_type": "stream",
     "text": [
      "Enter the number 5\n"
     ]
    },
    {
     "name": "stdout",
     "output_type": "stream",
     "text": [
      "The factorial is 120\n"
     ]
    }
   ],
   "source": [
    "number=int(input('Enter the number'))\n",
    "fact=1\n",
    "\n",
    "while number>0:\n",
    "    fact=fact*number\n",
    "    number-=1\n",
    "print(f'The factorial is {fact}')"
   ]
  },
  {
   "cell_type": "markdown",
   "id": "c5fe9446-0927-42ed-bdd7-457a1e0417ac",
   "metadata": {},
   "source": [
    "## Exercise 6"
   ]
  },
  {
   "cell_type": "code",
   "execution_count": 17,
   "id": "379bf978-89f3-4e48-a096-74c2740e60ec",
   "metadata": {},
   "outputs": [
    {
     "name": "stdin",
     "output_type": "stream",
     "text": [
      "Enter the number 9635\n"
     ]
    },
    {
     "name": "stdout",
     "output_type": "stream",
     "text": [
      "The reverse of a given is 5369\n"
     ]
    }
   ],
   "source": [
    "number=int(input('Enter the number'))\n",
    "rev=0\n",
    "\n",
    "while number>0:\n",
    "    lst_digit=number%10\n",
    "    rev=rev*10+lst_digit\n",
    "    number=number//10\n",
    "print(f'The reverse of a given is {rev}')\n",
    "    \n",
    "    \n"
   ]
  },
  {
   "cell_type": "markdown",
   "id": "032bade5-c588-44d9-b9cd-6ab972949f36",
   "metadata": {},
   "source": [
    "## Exercise 7"
   ]
  },
  {
   "cell_type": "code",
   "execution_count": 52,
   "id": "dd7f171d-abbf-4288-815c-6e5d3ce73260",
   "metadata": {},
   "outputs": [
    {
     "name": "stdin",
     "output_type": "stream",
     "text": [
      "Enter the number 7 \n",
      "Enter the count 11\n"
     ]
    },
    {
     "name": "stdout",
     "output_type": "stream",
     "text": [
      "7 14 21 28 35 42 49 56 63 70 77 "
     ]
    }
   ],
   "source": [
    "n=int(input('Enter the number'))\n",
    "count=int(input('Enter the count'))\n",
    "i=1\n",
    "while i<=count:\n",
    "    m=i*n\n",
    "    print(m,end=\" \")\n",
    "    i+=1\n",
    "   \n",
    "    "
   ]
  },
  {
   "cell_type": "markdown",
   "id": "d40c1785-6bfa-476f-b875-e9801033add6",
   "metadata": {},
   "source": [
    "## Exerciese 8"
   ]
  },
  {
   "cell_type": "code",
   "execution_count": 59,
   "id": "e7c1a676-6e4c-4ec4-a74b-8501f88948fd",
   "metadata": {},
   "outputs": [
    {
     "name": "stdin",
     "output_type": "stream",
     "text": [
      ": done\n"
     ]
    },
    {
     "name": "stdout",
     "output_type": "stream",
     "text": [
      "done\n"
     ]
    }
   ],
   "source": [
    "while True:\n",
    "    user_input = input(\":\")  \n",
    "    print(user_input)  \n",
    "    if user_input == \"done\" or user_input=='Done':  \n",
    "        break  \n"
   ]
  },
  {
   "cell_type": "markdown",
   "id": "0eb26109-d82c-49c0-a778-0c647aaa8205",
   "metadata": {},
   "source": [
    "## Exercise 9"
   ]
  },
  {
   "cell_type": "code",
   "execution_count": 70,
   "id": "0506ed25-e43f-4e3f-883f-78f621094f70",
   "metadata": {},
   "outputs": [
    {
     "name": "stdout",
     "output_type": "stream",
     "text": [
      "1\n",
      "2\n",
      "Fizz\n",
      "4\n",
      "Buzz\n",
      "Fizz\n",
      "7\n",
      "8\n",
      "Fizz\n",
      "Buzz\n"
     ]
    }
   ],
   "source": [
    "for i in range(1,11):\n",
    "    if i%3==0 and i%5==0:\n",
    "        print('FizzBuzz')\n",
    "    elif i%3==0:\n",
    "        print('Fizz')\n",
    "    elif i%5==0:\n",
    "        print('Buzz')\n",
    "    else:\n",
    "        print(i)"
   ]
  },
  {
   "cell_type": "markdown",
   "id": "d96e6c22-a1bc-44ae-809b-4f904682e085",
   "metadata": {},
   "source": [
    "## Exercise 10"
   ]
  },
  {
   "cell_type": "code",
   "execution_count": 100,
   "id": "2cbe7e78-c467-4874-be26-b2b831156752",
   "metadata": {},
   "outputs": [
    {
     "name": "stdout",
     "output_type": "stream",
     "text": [
      "54321\n",
      "\n",
      "4321\n",
      "\n",
      "321\n",
      "\n",
      "21\n",
      "\n",
      "1\n",
      "\n"
     ]
    }
   ],
   "source": [
    "for j in range(5,0,-1):\n",
    "    for i in range(j,0,-1):\n",
    "        print(i,end='')\n",
    "    print('\\n')\n"
   ]
  },
  {
   "cell_type": "code",
   "execution_count": null,
   "id": "0c6a874c-8542-419d-bb0e-8a4e899785ef",
   "metadata": {},
   "outputs": [],
   "source": []
  }
 ],
 "metadata": {
  "kernelspec": {
   "display_name": "Python 3 (ipykernel)",
   "language": "python",
   "name": "python3"
  },
  "language_info": {
   "codemirror_mode": {
    "name": "ipython",
    "version": 3
   },
   "file_extension": ".py",
   "mimetype": "text/x-python",
   "name": "python",
   "nbconvert_exporter": "python",
   "pygments_lexer": "ipython3",
   "version": "3.12.4"
  }
 },
 "nbformat": 4,
 "nbformat_minor": 5
}
