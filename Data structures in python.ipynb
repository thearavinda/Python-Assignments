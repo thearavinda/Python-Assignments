{
 "cells": [
  {
   "cell_type": "markdown",
   "id": "f553253e-355a-4f19-8bab-9d24e0cc76b8",
   "metadata": {},
   "source": [
    "## Exercise List"
   ]
  },
  {
   "cell_type": "code",
   "execution_count": 102,
   "id": "b8b35911-e5cd-4e9c-a552-e58227fa65b9",
   "metadata": {},
   "outputs": [
    {
     "name": "stdout",
     "output_type": "stream",
     "text": [
      "The first list created is  [34, 53, 54, 64, 45]\n",
      "The second list created is [2, 12, 93]\n",
      "The updated list is [34, 53, 54, 64, 45, 2, 12, 93]\n",
      "Each element in the list is 34\n",
      "Each element in the list is 53\n",
      "Each element in the list is 54\n",
      "Each element in the list is 64\n",
      "Each element in the list is 45\n",
      "Each element in the list is 2\n",
      "Each element in the list is 12\n",
      "Each element in the list is 93\n"
     ]
    }
   ],
   "source": [
    "lst=[34,53,54,64,45]\n",
    "print('The first list created is ',lst)\n",
    "\n",
    "lst_1=[2,12,93]\n",
    "print('The second list created is',lst_1)\n",
    "\n",
    "lst.extend(lst_1)\n",
    "print('The updated list is',lst)\n",
    "\n",
    "for i in lst:\n",
    "    print('Each element in the list is',i)"
   ]
  },
  {
   "cell_type": "markdown",
   "id": "6ceb0624-631b-4e78-a8bf-caaee062fed6",
   "metadata": {},
   "source": [
    "## Exercise Dicionary"
   ]
  },
  {
   "cell_type": "code",
   "execution_count": 117,
   "id": "4fb704fa-1cac-474a-9fbe-f3ff5c2202c2",
   "metadata": {},
   "outputs": [
    {
     "name": "stdout",
     "output_type": "stream",
     "text": [
      "The dictionary created is: {'name': 'John', 'age': 25, 'address': 'New York'}\n",
      "The updated dictionary is {'name': 'John', 'age': 25, 'address': 'New York', 'phone': '1234567890'}\n"
     ]
    }
   ],
   "source": [
    "person={'name':'John','age':25,'address':'New York'}\n",
    "print('The dictionary created is:',person)\n",
    "\n",
    "person['phone']='1234567890'\n",
    "print('The updated dictionary is',person)\n"
   ]
  },
  {
   "cell_type": "markdown",
   "id": "1dec0610-a1ed-4fd1-b2ef-74d264629e38",
   "metadata": {},
   "source": [
    "## Exercise Set"
   ]
  },
  {
   "cell_type": "code",
   "execution_count": 125,
   "id": "2bf04004-6a93-4bc5-9659-d5b7df17ed5c",
   "metadata": {},
   "outputs": [
    {
     "name": "stdout",
     "output_type": "stream",
     "text": [
      "The set created is {1, 2, 3, 4, 5}\n",
      "The updated set is {1, 2, 3, 4, 5, 6}\n",
      "The set after removel of 3 {1, 2, 4, 5, 6}\n"
     ]
    }
   ],
   "source": [
    "numbers={1,2,3,4,5}\n",
    "print('The set created is',numbers)\n",
    "\n",
    "numbers.add(6)\n",
    "print('The updated set is',numbers)\n",
    "\n",
    "numbers.remove(3)\n",
    "print('The set after removel of 3',numbers)\n"
   ]
  },
  {
   "cell_type": "markdown",
   "id": "6c29acaa-19ba-4b99-bdb0-02923433f01b",
   "metadata": {},
   "source": [
    "## Excericse Tuple"
   ]
  },
  {
   "cell_type": "code",
   "execution_count": 130,
   "id": "4e6e87ab-e1b1-42c6-8ac3-0cff4fced248",
   "metadata": {},
   "outputs": [
    {
     "name": "stdout",
     "output_type": "stream",
     "text": [
      "The tuple created is (1, 2, 3, 4)\n",
      "The length fo the tuple is 4\n"
     ]
    }
   ],
   "source": [
    "new_tuple=(1,2,3,4)\n",
    "print('The tuple created is',new_tuple)\n",
    "print('The length fo the tuple is',len(new_tuple))\n"
   ]
  },
  {
   "cell_type": "code",
   "execution_count": null,
   "id": "c1304197-9b54-4216-8728-84314641081a",
   "metadata": {},
   "outputs": [],
   "source": []
  }
 ],
 "metadata": {
  "kernelspec": {
   "display_name": "Python 3 (ipykernel)",
   "language": "python",
   "name": "python3"
  },
  "language_info": {
   "codemirror_mode": {
    "name": "ipython",
    "version": 3
   },
   "file_extension": ".py",
   "mimetype": "text/x-python",
   "name": "python",
   "nbconvert_exporter": "python",
   "pygments_lexer": "ipython3",
   "version": "3.12.4"
  }
 },
 "nbformat": 4,
 "nbformat_minor": 5
}
