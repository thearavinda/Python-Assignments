{
 "cells": [
  {
   "cell_type": "markdown",
   "id": "0d1740f6-25f5-48f9-94d6-3ffeebf5bab8",
   "metadata": {},
   "source": [
    "## Exercise 1"
   ]
  },
  {
   "cell_type": "code",
   "execution_count": null,
   "id": "59d8420c-ed53-40c5-8f89-fd6dcb08e36b",
   "metadata": {},
   "outputs": [],
   "source": [
    "with open('file_path', 'r') as file:\n",
    "            content = file.read()\n",
    "            print(\"File Contents:\\n\")\n",
    "            print(content)"
   ]
  },
  {
   "cell_type": "markdown",
   "id": "168eae95-872f-494f-b37c-a4958a0223e2",
   "metadata": {},
   "source": [
    "## Exercise 2"
   ]
  },
  {
   "cell_type": "code",
   "execution_count": null,
   "id": "84f7b9e5-8f35-4d3e-803e-11842c217569",
   "metadata": {},
   "outputs": [],
   "source": [
    "with open(source_file, 'r') as sc:\n",
    "            content = src.read()\n",
    "with open(destination_file, 'w') as dest:\n",
    "            dest.write(content)"
   ]
  },
  {
   "cell_type": "markdown",
   "id": "0634c768-2352-4817-a0d2-ef2c47147029",
   "metadata": {},
   "source": [
    "## Exercise 3"
   ]
  },
  {
   "cell_type": "code",
   "execution_count": null,
   "id": "3cc6e274-c40d-444d-a6cf-fac2a532e114",
   "metadata": {},
   "outputs": [],
   "source": [
    "with open(file_path, 'r') as file:\n",
    "            content = file.read()\n",
    "            words = content.split()  \n",
    "            word_count = len(words) \n",
    "            print(f\"Total number of words in the file: {word_count}\")"
   ]
  },
  {
   "cell_type": "markdown",
   "id": "8cfe9265-4a83-4a48-bb04-8f555714efe0",
   "metadata": {},
   "source": [
    "## Exercise 4"
   ]
  },
  {
   "cell_type": "code",
   "execution_count": 36,
   "id": "779e8fb6-dcff-4564-9f47-3a2974477b91",
   "metadata": {},
   "outputs": [
    {
     "name": "stdin",
     "output_type": "stream",
     "text": [
      "Enter a number:  85\n"
     ]
    },
    {
     "name": "stdout",
     "output_type": "stream",
     "text": [
      "Conversion successful! The integer value is: 85\n"
     ]
    }
   ],
   "source": [
    "def convert_to_integer():\n",
    "    try:\n",
    "        user_input = input(\"Enter a number: \") \n",
    "        number = int(user_input) \n",
    "        print(f\"Conversion successful! The integer value is: {number}\")\n",
    "    except ValueError:\n",
    "        print(\"Error: Invalid input! Please enter a valid integer.\")\n",
    "   \n",
    "\n",
    "convert_to_integer()\n"
   ]
  },
  {
   "cell_type": "markdown",
   "id": "7d6c7c96-c9a3-4965-8484-d17e762e9d33",
   "metadata": {},
   "source": [
    "## Exercise 5"
   ]
  },
  {
   "cell_type": "code",
   "execution_count": 37,
   "id": "1c5127e7-c816-4993-b8a4-baedc28434ce",
   "metadata": {},
   "outputs": [
    {
     "name": "stdin",
     "output_type": "stream",
     "text": [
      "Enter a list of integers separated by spaces:  89 62 -96\n"
     ]
    },
    {
     "name": "stdout",
     "output_type": "stream",
     "text": [
      "Error: Negative number found (-96)! Only positive integers are allowed.\n"
     ]
    }
   ],
   "source": [
    "class NegativeNumberError(Exception):\n",
    "    pass\n",
    "\n",
    "\n",
    "def get_positive_integers():\n",
    "    try:\n",
    "    \n",
    "        user_input = input(\"Enter a list of integers separated by spaces: \")\n",
    "        numbers = list(map(int, user_input.split()))  \n",
    "        \n",
    "        \n",
    "        for num in numbers:\n",
    "            if num < 0:\n",
    "                raise NegativeNumberError(f\"Error: Negative number found ({num})! Only positive integers are allowed.\")\n",
    "\n",
    "        print(\"Valid list of positive integers:\", numbers)\n",
    "    \n",
    "    except ValueError:\n",
    "        print(\"Error: Please enter only integers.\")\n",
    "    except NegativeNumberError as e:\n",
    "        print(e)\n",
    "    \n",
    "get_positive_integers()\n",
    "\n"
   ]
  },
  {
   "cell_type": "markdown",
   "id": "cd1f974b-83b7-442e-9d64-c35ea2aadac6",
   "metadata": {},
   "source": [
    "## Exercise 6"
   ]
  },
  {
   "cell_type": "code",
   "execution_count": 55,
   "id": "45469964-dd5c-4aa9-b44f-98eab59d0c92",
   "metadata": {},
   "outputs": [
    {
     "name": "stdin",
     "output_type": "stream",
     "text": [
      "Enter a list of integers separated by spaces:  7 8 5 g\n"
     ]
    },
    {
     "name": "stdout",
     "output_type": "stream",
     "text": [
      "Invalid input! Enter Integers\n",
      "Program execution finished.\n"
     ]
    }
   ],
   "source": [
    "def find_average():\n",
    "    try:\n",
    "        \n",
    "        user_input = input(\"Enter a list of integers separated by spaces: \")\n",
    "        numbers = list(map(int, user_input.split()))  \n",
    "\n",
    "        if not numbers:\n",
    "            raise ValueError(\"Error: The list is empty. Please enter at least one number.\")\n",
    "\n",
    "        average = sum(numbers) / len(numbers)\n",
    "        print(f\"The average of the entered numbers is: {average}\")\n",
    "\n",
    "    except ValueError as e:\n",
    "        print(f\"Invalid input! Enter Integers\")\n",
    "\n",
    "    finally:\n",
    "        print(\"Program execution finished.\") \n",
    "\n",
    "find_average()\n"
   ]
  },
  {
   "cell_type": "markdown",
   "id": "7562b59f-a374-4d14-8bbe-930edde144c7",
   "metadata": {},
   "source": [
    "## Exercise 7"
   ]
  },
  {
   "cell_type": "code",
   "execution_count": null,
   "id": "28b55fc2-a2af-4423-bd54-5b6dfe9d22d9",
   "metadata": {},
   "outputs": [],
   "source": [
    "def write_file():\n",
    "    try:\n",
    "        filename = input(\"Enter the filename\")\n",
    "        content = input(\"Enter the text to write into the file: \")\n",
    "t\n",
    "        with open(filename, \"w\") as file:\n",
    "            file.write(content)\n",
    "        \n",
    "        print(\"Welcome! Your text has been successfully written to the file.\")\n",
    "\n",
    "    except Exception as e:\n",
    "        print(f\" An error occurred: {e}\")\n",
    "\n",
    "write_to_file()\n"
   ]
  }
 ],
 "metadata": {
  "kernelspec": {
   "display_name": "Python 3 (ipykernel)",
   "language": "python",
   "name": "python3"
  },
  "language_info": {
   "codemirror_mode": {
    "name": "ipython",
    "version": 3
   },
   "file_extension": ".py",
   "mimetype": "text/x-python",
   "name": "python",
   "nbconvert_exporter": "python",
   "pygments_lexer": "ipython3",
   "version": "3.12.4"
  }
 },
 "nbformat": 4,
 "nbformat_minor": 5
}
