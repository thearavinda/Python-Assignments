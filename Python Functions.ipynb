{
 "cells": [
  {
   "cell_type": "markdown",
   "id": "d42a8217-ce47-4eca-b472-58821b0e41ac",
   "metadata": {},
   "source": [
    "## 1"
   ]
  },
  {
   "cell_type": "raw",
   "id": "d7b43cdf-3fa7-428e-aab7-b88d0ff83356",
   "metadata": {},
   "source": [
    "The len() function in python is used to calculate the number of items\n",
    "in an objects such as list, tuple, dictionary or string\n"
   ]
  },
  {
   "cell_type": "code",
   "execution_count": 21,
   "id": "be4449d0-79b7-4b2e-87e4-142179230f61",
   "metadata": {},
   "outputs": [
    {
     "name": "stdout",
     "output_type": "stream",
     "text": [
      "The number of countries in the list is 5\n"
     ]
    }
   ],
   "source": [
    "## The len() function in python is used to calculate the number of items\n",
    "## in an objects such as list, tuple, dictionary or string\n",
    "\n",
    "Countries=['India','America','China','Russia','Japan']\n",
    "\n",
    "count=len(Countries)\n",
    "print(f'The number of countries in the list is {count}')"
   ]
  },
  {
   "cell_type": "markdown",
   "id": "7f3b40d8-3dda-4bba-b77c-ee50509a5791",
   "metadata": {},
   "source": [
    "## 2"
   ]
  },
  {
   "cell_type": "code",
   "execution_count": 26,
   "id": "0e15b083-5b3c-4749-8210-82a6394ae787",
   "metadata": {},
   "outputs": [
    {
     "name": "stdout",
     "output_type": "stream",
     "text": [
      " \"Hello, Aravind!\"\n"
     ]
    }
   ],
   "source": [
    "def greet(name):\n",
    "    print(f' \"Hello, {name}!\"')\n",
    "\n",
    "greet('Aravind')"
   ]
  },
  {
   "cell_type": "markdown",
   "id": "2b602b38-7615-46e6-b82d-a216ecee2f3b",
   "metadata": {},
   "source": [
    "## 3"
   ]
  },
  {
   "cell_type": "code",
   "execution_count": 19,
   "id": "ec5f181f-c1fa-4852-a3f4-a090e600b281",
   "metadata": {},
   "outputs": [
    {
     "name": "stdout",
     "output_type": "stream",
     "text": [
      "The maximum value is: 111\n"
     ]
    }
   ],
   "source": [
    "def find_maximum(numbers):\n",
    "    if not numbers:  \n",
    "        return None  \n",
    "\n",
    "    max_value = numbers[0]  \n",
    "    for num in numbers:\n",
    "        if num > max_value:\n",
    "            max_value = num \n",
    "    return max_value\n",
    "\n",
    "numbers_list = [25, 45, 78, 34, 89, 111]\n",
    "print(\"The maximum value is:\", find_maximum(numbers_list))\n"
   ]
  },
  {
   "cell_type": "markdown",
   "id": "2539fa7e-7fb0-43f0-b372-46d556cc22ea",
   "metadata": {},
   "source": [
    "## 4"
   ]
  },
  {
   "cell_type": "raw",
   "id": "1239c688-736b-420c-b396-748494f9817d",
   "metadata": {},
   "source": [
    " Variable declared inside a function is called a Local variable. It is accessible only within that function.\n",
    "\n",
    " Variable declared outside of all functions is called a global variable. It is accessible throughout the program."
   ]
  },
  {
   "cell_type": "code",
   "execution_count": 23,
   "id": "f0145cf6-0107-48e8-b0d7-62115858a3ae",
   "metadata": {},
   "outputs": [
    {
     "name": "stdout",
     "output_type": "stream",
     "text": [
      "Inside function: Hello, I am Local Variable\n",
      "Outside function: Hello, I am Global Variable\n"
     ]
    }
   ],
   "source": [
    "## Variable declared inside a function is called a Local variable. It is accessible only within that function.\n",
    "\n",
    "## Variable declared outside of all functions is called a global variable. It is accessible throughout the program.\n",
    "\n",
    "message = \"Hello, I am Global Variable\"\n",
    "\n",
    "def greet():\n",
    "    message = \"Hello, I am Local Variable\"\n",
    "    print(\"Inside function:\", message)  \n",
    "\n",
    "greet()\n",
    "\n",
    "print(\"Outside function:\", message)  \n",
    "\n",
    "\n"
   ]
  },
  {
   "cell_type": "markdown",
   "id": "fbcf12ed-89b9-4cda-8593-8272d398425d",
   "metadata": {},
   "source": [
    "## 5"
   ]
  },
  {
   "cell_type": "code",
   "execution_count": 15,
   "id": "b20bfe96-e99e-451e-801b-503b832cd8b0",
   "metadata": {},
   "outputs": [
    {
     "name": "stdout",
     "output_type": "stream",
     "text": [
      "Area when both length and width are given 80\n",
      "Area when only length is given 50\n"
     ]
    }
   ],
   "source": [
    "def calculate_area(length, width=5):\n",
    "    return length * width\n",
    "    \n",
    "\n",
    "area_1=calculate_area(10,8)\n",
    "print('Area when both length and width are given',area_1)\n",
    "\n",
    "area_2=calculate_area(10)\n",
    "print('Area when only length is given',area_2)\n",
    "\n",
    "\n",
    "\n",
    "          \n",
    "\n"
   ]
  },
  {
   "cell_type": "code",
   "execution_count": null,
   "id": "8d71d258-b727-4540-955d-61bd05d3995d",
   "metadata": {},
   "outputs": [],
   "source": []
  }
 ],
 "metadata": {
  "kernelspec": {
   "display_name": "Python 3 (ipykernel)",
   "language": "python",
   "name": "python3"
  },
  "language_info": {
   "codemirror_mode": {
    "name": "ipython",
    "version": 3
   },
   "file_extension": ".py",
   "mimetype": "text/x-python",
   "name": "python",
   "nbconvert_exporter": "python",
   "pygments_lexer": "ipython3",
   "version": "3.12.4"
  }
 },
 "nbformat": 4,
 "nbformat_minor": 5
}
