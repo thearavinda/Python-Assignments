{
 "cells": [
  {
   "cell_type": "markdown",
   "id": "d387a00b-2f25-4ad4-9692-07fd2104233b",
   "metadata": {},
   "source": [
    "## Exercise 1"
   ]
  },
  {
   "cell_type": "code",
   "execution_count": 1,
   "id": "57d81cfc-ddcb-497e-8273-b4d5efbdcc42",
   "metadata": {},
   "outputs": [],
   "source": [
    "name='Aravind'\n",
    "student_number='14431'\n",
    "email_address='aravind123@gmail.com'\n"
   ]
  },
  {
   "cell_type": "code",
   "execution_count": 3,
   "id": "f2e00e19-2def-474f-922c-949da7361dc6",
   "metadata": {},
   "outputs": [
    {
     "name": "stdout",
     "output_type": "stream",
     "text": [
      "Aravind\n",
      "14431\n",
      "aravind123@gmail.com\n"
     ]
    }
   ],
   "source": [
    "print(name)\n",
    "print(student_number)\n",
    "print(email_address)"
   ]
  },
  {
   "cell_type": "markdown",
   "id": "3f025bb3-ed2c-495d-bd79-b2cb3b08969f",
   "metadata": {},
   "source": [
    "## Exercise 2"
   ]
  },
  {
   "cell_type": "code",
   "execution_count": 16,
   "id": "3d505743-f393-48b5-9a3b-31dedf8f9a7f",
   "metadata": {},
   "outputs": [
    {
     "name": "stdout",
     "output_type": "stream",
     "text": [
      "Aravind\n",
      "14431\n",
      "aravind123@gmail.com\n"
     ]
    }
   ],
   "source": [
    "print('Aravind\\n14431\\naravind123@gmail.com')"
   ]
  },
  {
   "cell_type": "markdown",
   "id": "b007f305-24b1-478c-a0a9-3004452e14a9",
   "metadata": {},
   "source": [
    "## Exercise 3"
   ]
  },
  {
   "cell_type": "code",
   "execution_count": 19,
   "id": "26189655-3188-40aa-a541-98a752028806",
   "metadata": {},
   "outputs": [
    {
     "name": "stdout",
     "output_type": "stream",
     "text": [
      "21\n",
      "7\n",
      "98\n",
      "2.0\n"
     ]
    }
   ],
   "source": [
    "a=14\n",
    "b=7\n",
    "print(a+b)\n",
    "print(a-b)\n",
    "print(a*b)\n",
    "print(a/b)"
   ]
  },
  {
   "cell_type": "markdown",
   "id": "9b8fd820-746e-4408-8ab0-187db7625794",
   "metadata": {},
   "source": [
    "## Exercise 4"
   ]
  },
  {
   "cell_type": "code",
   "execution_count": 26,
   "id": "18c52565-1e92-4f05-a44f-2fd2c5cb09a8",
   "metadata": {},
   "outputs": [
    {
     "name": "stdout",
     "output_type": "stream",
     "text": [
      "1\n",
      "2\n",
      "3\n",
      "4\n",
      "5\n"
     ]
    }
   ],
   "source": [
    "for i in range(1,6):\n",
    "    print(i)"
   ]
  },
  {
   "cell_type": "markdown",
   "id": "11ea0dff-22dc-43b9-91cc-73a04c7036a2",
   "metadata": {},
   "source": [
    "## Excercise 5"
   ]
  },
  {
   "cell_type": "code",
   "execution_count": 31,
   "id": "bfe93a7a-b7da-4eb3-be0b-9a58a3a1dc17",
   "metadata": {},
   "outputs": [
    {
     "name": "stdout",
     "output_type": "stream",
     "text": [
      "\"SDK stands for \"Software Development Kit\" whereas \n",
      " \"IDE\" stands for \"Integrated Development Enviroment\".\n"
     ]
    }
   ],
   "source": [
    "print('\"SDK stands for \"Software Development Kit\" whereas \\n \"IDE\" stands for \"Integrated Development Enviroment\".')"
   ]
  },
  {
   "cell_type": "markdown",
   "id": "0adb6cf3-6518-4f71-89a4-3a8570599e8b",
   "metadata": {},
   "source": [
    "## Excercise 6"
   ]
  },
  {
   "cell_type": "code",
   "execution_count": 76,
   "id": "b2ab7b94-ac4e-4ffc-bb00-0c2106fb7b96",
   "metadata": {},
   "outputs": [
    {
     "name": "stdout",
     "output_type": "stream",
     "text": [
      "python is an \"awesome\" language.\n",
      "python\n",
      "\t2023\n",
      "I'm from Entri\n",
      "5\n",
      "e\n",
      "Entri\n",
      "2023\n",
      "Entr2023\n",
      "Entri*20"
     ]
    }
   ],
   "source": [
    "print(\"python is an \\\"awesome\\\" language.\")\n",
    "print(\"python\\n\\t2023\")\n",
    "print('I\\'m from Entri.\\b')\n",
    "print(\"\\65\")\n",
    "print(\"\\x65\")\n",
    "print(\"Entri\",\"2023\",sep=\"\\n\")\n",
    "print(\"Entri\",\"2023\",sep=\"\\b\")\n",
    "print(\"Entri\",\"2023\",sep=\"*\",end=\"\\b\\b\\b\\b\")"
   ]
  },
  {
   "cell_type": "markdown",
   "id": "e5ddd1b5-2735-483f-810c-b44d613df9dc",
   "metadata": {},
   "source": [
    "## Excercise 7"
   ]
  },
  {
   "cell_type": "code",
   "execution_count": 90,
   "id": "744ced05-bae3-4a24-99a1-3922f641dce5",
   "metadata": {},
   "outputs": [
    {
     "name": "stdout",
     "output_type": "stream",
     "text": [
      "<class 'int'>\n",
      "<class 'str'>\n",
      "<class 'float'>\n",
      "The sum of the vaiables :178.3\n",
      "The data type of the sum :<class 'float'>\n"
     ]
    }
   ],
   "source": [
    "num=23\n",
    "textnum='57'\n",
    "decimal=98.3\n",
    "\n",
    "print(type(num))\n",
    "print(type(textnum))\n",
    "print(type(decimal))\n",
    "\n",
    "total=num+ int(textnum) + decimal\n",
    "print(f'The sum of the vaiables :{total}')\n",
    "print(f'The data type of the sum :{type(total)}')"
   ]
  },
  {
   "cell_type": "markdown",
   "id": "8a0901a8-4360-4c43-817e-3aaba040b370",
   "metadata": {},
   "source": [
    "## Excercise 8"
   ]
  },
  {
   "cell_type": "code",
   "execution_count": 111,
   "id": "b5c43d85-0259-4195-aa69-efb7551fecd6",
   "metadata": {},
   "outputs": [
    {
     "name": "stdout",
     "output_type": "stream",
     "text": [
      "This program calculates the number of minutes in year \n",
      "using following variables\n",
      "\n",
      "Days in a year :365\n",
      "Minutes in an hour :60\n",
      "Hours in a Day :24\n",
      "\n",
      "The total number of minutes in year :525600\n"
     ]
    }
   ],
   "source": [
    "daysInAyear=365\n",
    "minInAHour=60\n",
    "hoursInADay=24\n",
    "\n",
    "numOfMinInAYear=daysInAyear*minInAHour*hoursInADay\n",
    "\n",
    "print(f'This program calculates the number of minutes in year \\nusing following variables')\n",
    "\n",
    "print(f'\\nDays in a year :{daysInAyear}')\n",
    "print(f'Minutes in an hour :{minInAHour}')\n",
    "print(f'Hours in a Day :{hoursInADay}')\n",
    "\n",
    "print(f'\\nThe total number of minutes in year :{numOfMinInAYear}')"
   ]
  },
  {
   "cell_type": "markdown",
   "id": "6b225276-730a-41ce-bfb2-2a80557d303f",
   "metadata": {},
   "source": [
    "## Excercise 9"
   ]
  },
  {
   "cell_type": "code",
   "execution_count": 116,
   "id": "e286f95b-85ef-44b9-98c5-f446b2b387ad",
   "metadata": {},
   "outputs": [
    {
     "name": "stdin",
     "output_type": "stream",
     "text": [
      "Please Enter your name Aravind\n"
     ]
    },
    {
     "name": "stdout",
     "output_type": "stream",
     "text": [
      "\n",
      "Hi Aravind, welcome to Python programming :)\n"
     ]
    }
   ],
   "source": [
    "name=input('Please Enter your name')\n",
    "\n",
    "print(f'\\nHi {name}, welcome to Python programming :)')"
   ]
  },
  {
   "cell_type": "markdown",
   "id": "f69cb78d-6ee4-44ad-b432-47178b3e381a",
   "metadata": {},
   "source": [
    "## Excercise 10"
   ]
  },
  {
   "cell_type": "code",
   "execution_count": 127,
   "id": "e76ce564-543f-4bee-baf7-54dfc3bcc1ca",
   "metadata": {},
   "outputs": [
    {
     "name": "stdin",
     "output_type": "stream",
     "text": [
      "Please enter the amount in pounds: 231\n"
     ]
    },
    {
     "name": "stdout",
     "output_type": "stream",
     "text": [
      "£231.0 are $286.44\n"
     ]
    }
   ],
   "source": [
    "pounds=float(input('Please enter the amount in pounds:'))\n",
    "\n",
    "conversion_rate=1.24\n",
    "dollars=pounds* conversion_rate\n",
    "print(f'£{pounds} are ${dollars}')\n",
    "\n",
    "\n"
   ]
  },
  {
   "cell_type": "code",
   "execution_count": null,
   "id": "753f65db-e4ee-444a-8d4f-b912d092bc25",
   "metadata": {},
   "outputs": [],
   "source": []
  }
 ],
 "metadata": {
  "kernelspec": {
   "display_name": "Python 3 (ipykernel)",
   "language": "python",
   "name": "python3"
  },
  "language_info": {
   "codemirror_mode": {
    "name": "ipython",
    "version": 3
   },
   "file_extension": ".py",
   "mimetype": "text/x-python",
   "name": "python",
   "nbconvert_exporter": "python",
   "pygments_lexer": "ipython3",
   "version": "3.12.4"
  }
 },
 "nbformat": 4,
 "nbformat_minor": 5
}
