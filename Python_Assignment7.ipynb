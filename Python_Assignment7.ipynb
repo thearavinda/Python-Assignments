{
 "cells": [
  {
   "cell_type": "markdown",
   "id": "fd51f758-9fca-45d5-b2ee-9e59e508d6ed",
   "metadata": {},
   "source": [
    "## Exercise 1"
   ]
  },
  {
   "cell_type": "code",
   "execution_count": 8,
   "id": "6d8704cc-5fe5-43b1-843a-d4bc4ccc424c",
   "metadata": {},
   "outputs": [
    {
     "name": "stdout",
     "output_type": "stream",
     "text": [
      "[ 1  2  3  4  5  6  7  8  9 10]\n",
      "\n",
      "[[ 1  2  3  4  5]\n",
      " [ 6  7  8  9 10]]\n"
     ]
    }
   ],
   "source": [
    "#Create a numpy array containing the numbers from 1 to 10, and then reshape it to a 2x5 matrix.\n",
    "\n",
    "import numpy as np\n",
    "\n",
    "arr = np.arange(1, 11)\n",
    "print(arr)\n",
    "print()\n",
    "\n",
    "reshaped_arr = arr.reshape(2, 5)\n",
    "\n",
    "print(reshaped_arr)\n"
   ]
  },
  {
   "cell_type": "markdown",
   "id": "9143759c-9eca-40c1-9bff-bd5fc783f441",
   "metadata": {},
   "source": [
    "## Exercise 2"
   ]
  },
  {
   "cell_type": "code",
   "execution_count": 18,
   "id": "90162eb0-520e-41ea-a113-31bcfb3822c3",
   "metadata": {},
   "outputs": [
    {
     "name": "stdout",
     "output_type": "stream",
     "text": [
      "[ 1  2  3  4  5  6  7  8  9 10 11 12 13 14 15 16 17 18 19 20]\n",
      "[ 6  7  8  9 10 11 12 13 14 15]\n"
     ]
    }
   ],
   "source": [
    "#Create a numpy array containing the numbers from 1 to 20, and then extract the elements between the 5th and 15th index.\n",
    "\n",
    "arr = np.arange(1, 21)\n",
    "print(arr)\n",
    "\n",
    "extracted_elements = arr[5:15]\n",
    "print(extracted_elements)"
   ]
  },
  {
   "cell_type": "markdown",
   "id": "3ee03d99-1dc6-477e-82d5-7b3393322d17",
   "metadata": {},
   "source": [
    "## Exercise 3"
   ]
  },
  {
   "cell_type": "code",
   "execution_count": 22,
   "id": "00002895-017e-47ef-bdef-83e8eb768c8e",
   "metadata": {},
   "outputs": [
    {
     "name": "stdout",
     "output_type": "stream",
     "text": [
      "apples     3\n",
      "bananas    2\n",
      "oranges    1\n",
      "dtype: int64\n",
      "\n",
      "apples     3\n",
      "bananas    2\n",
      "oranges    1\n",
      "pears      4\n",
      "dtype: int64\n"
     ]
    }
   ],
   "source": [
    "##Create a Pandas series with the following data: {'apples': 3, 'bananas': 2, 'oranges': 1}. Then, add a new item to the series with the key 'pears' and the value 4.\n",
    "\n",
    "import pandas as pd\n",
    "\n",
    "fruit_series = pd.Series({'apples': 3, 'bananas': 2, 'oranges': 1})\n",
    "print(fruit_series)\n",
    "print()\n",
    "fruit_series['pears'] = 4\n",
    "\n",
    "print(fruit_series)\n"
   ]
  },
  {
   "cell_type": "markdown",
   "id": "ffa23b0c-c4fc-4c9f-9f78-973d7ebb122d",
   "metadata": {},
   "source": [
    "## Exercise 4"
   ]
  },
  {
   "cell_type": "code",
   "execution_count": 28,
   "id": "416f87ea-99d0-482f-a4fb-c2aba8504f8b",
   "metadata": {},
   "outputs": [
    {
     "name": "stdout",
     "output_type": "stream",
     "text": [
      "      name  age  gender\n",
      "0    Alice   25  Female\n",
      "1      Bob   30    Male\n",
      "2  Charlie   22    Male\n",
      "3    David   35    Male\n",
      "4     Emma   28  Female\n",
      "5    Frank   40    Male\n",
      "6    Grace   27  Female\n",
      "7    Henry   33    Male\n",
      "8      Ivy   29  Female\n",
      "9     Jack   31    Male\n"
     ]
    }
   ],
   "source": [
    "## Create a dataframe with the following columns: name, age, and gender. The dataframe should have 10 rows of data.\n",
    "\n",
    "\n",
    "data = {\n",
    "    'name': ['Alice', 'Bob', 'Charlie', 'David', 'Emma', 'Frank', 'Grace', 'Henry', 'Ivy', 'Jack'],\n",
    "    'age': [25, 30, 22, 35, 28, 40, 27, 33, 29, 31],\n",
    "    'gender': ['Female', 'Male', 'Male', 'Male', 'Female', 'Male', 'Female', 'Male', 'Female', 'Male']\n",
    "}\n",
    "\n",
    "df = pd.DataFrame(data)\n",
    "\n",
    "print(df)\n"
   ]
  },
  {
   "cell_type": "markdown",
   "id": "f4c44d0f-f33b-4dc7-ae40-7c778811029e",
   "metadata": {},
   "source": [
    "## Exercise 5"
   ]
  },
  {
   "cell_type": "code",
   "execution_count": 30,
   "id": "3ae6e073-904f-4d33-a1ec-f741e1812148",
   "metadata": {},
   "outputs": [
    {
     "name": "stdout",
     "output_type": "stream",
     "text": [
      "      name  age  gender  occupation\n",
      "0    Alice   25  Female  Programmer\n",
      "1      Bob   30    Male     Manager\n",
      "2  Charlie   22    Male     Analyst\n",
      "3    David   35    Male  Programmer\n",
      "4     Emma   28  Female     Manager\n",
      "5    Frank   40    Male     Analyst\n",
      "6    Grace   27  Female  Programmer\n",
      "7    Henry   33    Male     Manager\n",
      "8      Ivy   29  Female     Analyst\n",
      "9     Jack   31    Male  Programmer\n"
     ]
    }
   ],
   "source": [
    "## Add a new column to the data frame created in question 1, called occupation. The values for this column should be Programmer, Manager, and Analyst, corresponding to the rows in the dataframe.\n",
    "\n",
    "\n",
    "df = pd.DataFrame(data)\n",
    "\n",
    "\n",
    "occupations = ['Programmer', 'Manager', 'Analyst', 'Programmer', 'Manager', \n",
    "               'Analyst', 'Programmer', 'Manager', 'Analyst', 'Programmer']\n",
    "\n",
    "df['occupation'] = occupations\n",
    "\n",
    "\n",
    "print(df)"
   ]
  },
  {
   "cell_type": "markdown",
   "id": "ab2edb0b-4522-4265-ba57-4657b659f6ad",
   "metadata": {},
   "source": [
    "## Exercise 6"
   ]
  },
  {
   "cell_type": "code",
   "execution_count": 37,
   "id": "84956bd2-a6c0-499f-94d1-38666a5e1eaa",
   "metadata": {},
   "outputs": [
    {
     "name": "stdout",
     "output_type": "stream",
     "text": [
      "    name  age gender  occupation\n",
      "1    Bob   30   Male     Manager\n",
      "3  David   35   Male  Programmer\n",
      "5  Frank   40   Male     Analyst\n",
      "7  Henry   33   Male     Manager\n",
      "9   Jack   31   Male  Programmer\n"
     ]
    }
   ],
   "source": [
    "## Select the rows of the dataframe where the age is greater than or equal to 30.\n",
    "\n",
    "filtered_df = df[df['age'] >= 30]\n",
    "\n",
    "print(filtered_df)"
   ]
  },
  {
   "cell_type": "markdown",
   "id": "58b58197-f636-4555-8a29-874f2c7a0bfa",
   "metadata": {},
   "source": [
    "## Exercise 7"
   ]
  },
  {
   "cell_type": "code",
   "execution_count": 49,
   "id": "beb5ee10-00d4-4aae-b6ff-4f6c5aa5fbb5",
   "metadata": {},
   "outputs": [
    {
     "name": "stdout",
     "output_type": "stream",
     "text": [
      "      name  age  gender  occupation\n",
      "0    Alice   25  Female  Programmer\n",
      "1      Bob   30    Male     Manager\n",
      "2  Charlie   22    Male     Analyst\n",
      "3    David   35    Male  Programmer\n",
      "4     Emma   28  Female     Manager\n",
      "5    Frank   40    Male     Analyst\n",
      "6    Grace   27  Female  Programmer\n",
      "7    Henry   33    Male     Manager\n",
      "8      Ivy   29  Female     Analyst\n",
      "9     Jack   31    Male  Programmer\n"
     ]
    }
   ],
   "source": [
    "## Convert this dataframe to a csv file and read that csv file, finally display the contents.\n",
    "\n",
    "csv_filename = \"dataframe.csv\"\n",
    "df.to_csv(csv_filename, index=False)\n",
    "\n",
    "df_read = pd.read_csv(csv_filename)\n",
    "print(df_read)\n"
   ]
  },
  {
   "cell_type": "code",
   "execution_count": null,
   "id": "3b952b6c-c7b3-4598-825d-cc3086438867",
   "metadata": {},
   "outputs": [],
   "source": []
  },
  {
   "cell_type": "code",
   "execution_count": null,
   "id": "158ea725-2d12-4a04-aa0e-6485d6c45bd1",
   "metadata": {},
   "outputs": [],
   "source": []
  }
 ],
 "metadata": {
  "kernelspec": {
   "display_name": "Python 3 (ipykernel)",
   "language": "python",
   "name": "python3"
  },
  "language_info": {
   "codemirror_mode": {
    "name": "ipython",
    "version": 3
   },
   "file_extension": ".py",
   "mimetype": "text/x-python",
   "name": "python",
   "nbconvert_exporter": "python",
   "pygments_lexer": "ipython3",
   "version": "3.12.4"
  }
 },
 "nbformat": 4,
 "nbformat_minor": 5
}
