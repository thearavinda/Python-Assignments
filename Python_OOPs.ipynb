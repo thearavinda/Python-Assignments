{
 "cells": [
  {
   "cell_type": "markdown",
   "id": "65d8f4fa-826c-4f9f-bcb2-0a1bd6400bd0",
   "metadata": {},
   "source": [
    "## Question 1"
   ]
  },
  {
   "cell_type": "code",
   "execution_count": 5,
   "id": "d1439e28-10d0-4808-9088-3dfca40126c7",
   "metadata": {},
   "outputs": [],
   "source": [
    "# Question 1:Build a program to manage a university's course catalog. You want to define a base class Course\n",
    "# that has the following properties: course_code: a string representing the course code (e.g., \"CS101\") course_name: a\n",
    "# string representing the course name (e.g., \"Introduction to Computer Science\") credit_hours: an integer representing\n",
    "# the credit hours for the course (e.g., 3) You also want to define two subclasses CoreCourse and ElectiveCourse, which\n",
    "# inherit from the Course class. CoreCourse should have an additional property required_for_major which is a boolean\n",
    "# representing whether the course is required for a particular major. ElectiveCourse should have an additional property\n",
    "# elective_type which is a string representing the type of elective (e.g., \"general\", \"technical\", \"liberal arts\").\n",
    "\n"
   ]
  },
  {
   "cell_type": "code",
   "execution_count": 2,
   "id": "4e0b9ef5-fe50-435f-81c7-42734024b6b5",
   "metadata": {},
   "outputs": [
    {
     "name": "stdout",
     "output_type": "stream",
     "text": [
      "CS101 - Introduction to Computer Science, Credit Hours: 3, Required for Major: Yes\n",
      "ART201 - Introduction to Painting, Credit Hours: 2, Elective Type: liberal arts\n"
     ]
    }
   ],
   "source": [
    "class Course:\n",
    "    def __init__(self, course_code, course_name, credit_hours):\n",
    "        self.course_code = course_code\n",
    "        self.course_name = course_name\n",
    "        self.credit_hours = credit_hours\n",
    "    \n",
    "    def display_info(self):\n",
    "        return f\"{self.course_code} - {self.course_name}, Credit Hours: {self.credit_hours}\"\n",
    "\n",
    "class CoreCourse(Course):\n",
    "    def __init__(self, course_code, course_name, credit_hours, required_for_major):\n",
    "        super().__init__(course_code, course_name, credit_hours)\n",
    "        self.required_for_major = required_for_major\n",
    "    \n",
    "    def display_info(self):\n",
    "        return super().display_info() + f\", Required for Major: {'Yes' if self.required_for_major else 'No'}\"\n",
    "\n",
    "class ElectiveCourse(Course):\n",
    "    def __init__(self, course_code, course_name, credit_hours, elective_type):\n",
    "        super().__init__(course_code, course_name, credit_hours)\n",
    "        self.elective_type = elective_type\n",
    "    \n",
    "    def display_info(self):\n",
    "        return super().display_info() + f\", Elective Type: {self.elective_type}\"\n",
    "\n",
    "core_course = CoreCourse(\"CS101\", \"Introduction to Computer Science\", 3, True)\n",
    "elective_course = ElectiveCourse(\"ART201\", \"Introduction to Painting\", 2, \"liberal arts\")\n",
    "\n",
    "print(core_course.display_info())\n",
    "print(elective_course.display_info())\n"
   ]
  },
  {
   "cell_type": "markdown",
   "id": "81ead542-c0c4-486e-bfcf-6804c49bd8a0",
   "metadata": {},
   "source": [
    "## Question 2"
   ]
  },
  {
   "cell_type": "code",
   "execution_count": 7,
   "id": "eca29c9f-3758-49ba-b0c4-9d39605ec60d",
   "metadata": {},
   "outputs": [],
   "source": [
    "# Question 2: Create a Python module named employee that contains a class Employee with attributes name,\n",
    "# salary and methods get_name() and get_salary(). Write a program to use this module to create an object of the Employee\n",
    "# class and display its name and salary."
   ]
  },
  {
   "cell_type": "code",
   "execution_count": 11,
   "id": "6cc919d3-b830-4c25-ad22-0d0cac99853e",
   "metadata": {},
   "outputs": [
    {
     "name": "stdout",
     "output_type": "stream",
     "text": [
      "Employee Name: Micheal Philips\n",
      "Employee Salary: 55000\n",
      "\n",
      "Employee Name: Hussain Bolt\n",
      "Employee Salary: 65000\n",
      "\n",
      "Employee Name: Dakota Johnson\n",
      "Employee Salary: 65000\n",
      "\n",
      "Employee Name: Angelina Jolie\n",
      "Employee Salary: 67000\n",
      "\n"
     ]
    }
   ],
   "source": [
    "class Employee:\n",
    "    def __init__(self, name, salary):\n",
    "        self.name = name\n",
    "        self.salary = salary\n",
    "\n",
    "    def get_name(self):\n",
    "        return self.name\n",
    "\n",
    "    def get_salary(self):\n",
    "        return self.salary\n",
    "\n",
    "employees = [\n",
    "    Employee(\"Micheal Philips\", 55000),\n",
    "    Employee(\"Hussain Bolt\", 65000),\n",
    "    Employee(\"Dakota Johnson\", 65000),\n",
    "    Employee(\"Angelina Jolie\", 67000)\n",
    "]\n",
    "\n",
    "for emp in employees:\n",
    "    print(\"Employee Name:\", emp.get_name())\n",
    "    print(\"Employee Salary:\", emp.get_salary())\n",
    "    print()"
   ]
  },
  {
   "cell_type": "code",
   "execution_count": null,
   "id": "436c0ada-01a6-4c1d-a6d7-5c569dbaf63b",
   "metadata": {},
   "outputs": [],
   "source": []
  }
 ],
 "metadata": {
  "kernelspec": {
   "display_name": "Python 3 (ipykernel)",
   "language": "python",
   "name": "python3"
  },
  "language_info": {
   "codemirror_mode": {
    "name": "ipython",
    "version": 3
   },
   "file_extension": ".py",
   "mimetype": "text/x-python",
   "name": "python",
   "nbconvert_exporter": "python",
   "pygments_lexer": "ipython3",
   "version": "3.12.4"
  }
 },
 "nbformat": 4,
 "nbformat_minor": 5
}
